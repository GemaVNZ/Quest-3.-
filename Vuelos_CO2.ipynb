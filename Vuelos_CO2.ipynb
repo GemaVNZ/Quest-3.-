{
 "cells": [
  {
   "cell_type": "code",
   "execution_count": 11,
   "id": "fcf39b03-34b0-4835-a1ca-9e1b6057221f",
   "metadata": {},
   "outputs": [
    {
     "name": "stdout",
     "output_type": "stream",
     "text": [
      "Requirement already satisfied: requests in c:\\users\\laura\\anaconda3\\lib\\site-packages (2.32.2)\n",
      "Requirement already satisfied: charset-normalizer<4,>=2 in c:\\users\\laura\\anaconda3\\lib\\site-packages (from requests) (2.0.4)\n",
      "Requirement already satisfied: idna<4,>=2.5 in c:\\users\\laura\\anaconda3\\lib\\site-packages (from requests) (3.7)\n",
      "Requirement already satisfied: urllib3<3,>=1.21.1 in c:\\users\\laura\\anaconda3\\lib\\site-packages (from requests) (2.2.2)\n",
      "Requirement already satisfied: certifi>=2017.4.17 in c:\\users\\laura\\anaconda3\\lib\\site-packages (from requests) (2024.8.30)\n"
     ]
    }
   ],
   "source": [
    "!pip install requests\n",
    "import requests\n",
    "import json"
   ]
  },
  {
   "cell_type": "code",
   "execution_count": 13,
   "id": "cef8d609-a565-4dcb-963f-b7c431a1df92",
   "metadata": {},
   "outputs": [
    {
     "name": "stdout",
     "output_type": "stream",
     "text": [
      "Estimación de emisiones de carbono para vuelo España-Francia:\n",
      "ID de la estimación: 5a532359-f271-4bc5-8e9a-fe73325973d4\n",
      "Tipo: estimate\n",
      "Atributos:\n",
      "  Pasajeros: 3\n",
      "  Emisiones en kilogramos: 465.65\n",
      "  Emisiones en toneladas métricas: 0.47\n",
      "  Distancia en km: 2328.58\n"
     ]
    }
   ],
   "source": [
    "base_url = \"https://www.carboninterface.com/api/v1\"\n",
    "api_key = \"7LLllprKsyKm7IXJDrRg\"\n",
    "\n",
    "\n",
    "headers = {\n",
    "    \"Authorization\": f\"Bearer {api_key}\",\n",
    "    \"Content-Type\": \"application/json\"\n",
    "}\n",
    "data = {\n",
    "    \"type\": \"flight\",\n",
    "    \"passengers\": 3,\n",
    "    \"cabin_class\": \"economy\",\n",
    "    \"legs\": [\n",
    "        {\"departure_airport\": \"MAD\", \"destination_airport\": \"CDG\"},\n",
    "        {\"departure_airport\": \"CDG\", \"destination_airport\": \"MAD\"}\n",
    "    ]\n",
    "}\n",
    "\n",
    "response = requests.post(f\"{base_url}/estimates\", headers=headers, data=json.dumps(data))\n",
    "\n",
    "if response.status_code == 201:\n",
    "    result = response.json()\n",
    "    print(\"Estimación de emisiones de carbono para vuelo España-Francia:\")\n",
    "    print(f\"ID de la estimación: {result['data']['id']}\")\n",
    "    print(f\"Tipo: {result['data']['type']}\")\n",
    "    print(f\"Atributos:\")\n",
    "    print(f\"  Pasajeros: {result['data']['attributes']['passengers']}\")\n",
    "    # print(f\"  Emisiones en libras: {result['data']['attributes']['carbon_lb']}\")\n",
    "    print(f\"  Emisiones en kilogramos: {result['data']['attributes']['carbon_kg']}\")\n",
    "    print(f\"  Emisiones en toneladas métricas: {result['data']['attributes']['carbon_mt']}\")\n",
    "    print(f\"  Distancia en km: {result['data']['attributes']['distance_value']}\")\n",
    "else:\n",
    "    print(f\"Error en la solicitud: {response.status_code}\")\n",
    "    print(response.text)"
   ]
  },
  {
   "cell_type": "code",
   "execution_count": 15,
   "id": "efabe4e0-4700-4a63-8d1f-bb1ffca610dd",
   "metadata": {},
   "outputs": [
    {
     "name": "stdout",
     "output_type": "stream",
     "text": [
      "Estimación de emisiones de carbono para vuelo España-Francia:\n",
      "ID de la estimación: fc91bd84-2ec6-4a49-a3f7-bdf3b5e07220\n",
      "Tipo: estimate\n",
      "Atributos:\n",
      "  Pasajeros: 3\n",
      "  Emisiones en kilogramos: 465.65\n",
      "  Emisiones en toneladas métricas: 0.47\n",
      "  Distancia en km: 2328.58\n"
     ]
    }
   ],
   "source": [
    "base_url = \"https://www.carboninterface.com/api/v1\"\n",
    "api_key = \"7LLllprKsyKm7IXJDrRg\"\n",
    "\n",
    "\n",
    "headers = {\n",
    "    \"Authorization\": f\"Bearer {api_key}\",\n",
    "    \"Content-Type\": \"application/json\"\n",
    "}\n",
    "data = {\n",
    "    \"type\": \"flight\",\n",
    "    \"passengers\": 3,\n",
    "    \"cabin_class\": \"premium\",\n",
    "    \"legs\": [\n",
    "        {\"departure_airport\": \"MAD\", \"destination_airport\": \"CDG\"},\n",
    "        {\"departure_airport\": \"CDG\", \"destination_airport\": \"MAD\"}\n",
    "    ]\n",
    "}\n",
    "\n",
    "response = requests.post(f\"{base_url}/estimates\", headers=headers, data=json.dumps(data))\n",
    "\n",
    "if response.status_code == 201:\n",
    "    result = response.json()\n",
    "    print(\"Estimación de emisiones de carbono para vuelo España-Francia:\")\n",
    "    print(f\"ID de la estimación: {result['data']['id']}\")\n",
    "    print(f\"Tipo: {result['data']['type']}\")\n",
    "    print(f\"Atributos:\")\n",
    "    print(f\"  Pasajeros: {result['data']['attributes']['passengers']}\")\n",
    "    # print(f\"  Emisiones en libras: {result['data']['attributes']['carbon_lb']}\")\n",
    "    print(f\"  Emisiones en kilogramos: {result['data']['attributes']['carbon_kg']}\")\n",
    "    print(f\"  Emisiones en toneladas métricas: {result['data']['attributes']['carbon_mt']}\")\n",
    "    print(f\"  Distancia en km: {result['data']['attributes']['distance_value']}\")\n",
    "else:\n",
    "    print(f\"Error en la solicitud: {response.status_code}\")\n",
    "    print(response.text)"
   ]
  }
 ],
 "metadata": {
  "kernelspec": {
   "display_name": "Python 3 (ipykernel)",
   "language": "python",
   "name": "python3"
  },
  "language_info": {
   "codemirror_mode": {
    "name": "ipython",
    "version": 3
   },
   "file_extension": ".py",
   "mimetype": "text/x-python",
   "name": "python",
   "nbconvert_exporter": "python",
   "pygments_lexer": "ipython3",
   "version": "3.12.4"
  }
 },
 "nbformat": 4,
 "nbformat_minor": 5
}
