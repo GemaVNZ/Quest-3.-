{
 "cells": [
  {
   "cell_type": "code",
   "execution_count": null,
   "metadata": {},
   "outputs": [],
   "source": [
    "import requests\n",
    "import json\n",
    "\n",
    "# Replace 'YOUR_API_KEY' with your actual API key\n",
    "api_key = 'd1138da0-c7d4-4f81-a2c6-44de7bbd80a0'\n",
    "url = \"https://api.openchargemap.io/v3/poi?latitude=40.416775,-3.703790&longitude=48.856614,2.352222&radius=1000&output=bbox&key={}\".format(api_key)\n",
    "\n",
    "response = requests.get(url)\n",
    "charging_stations = response.json()\n",
    "\n",
    "for station in charging_stations['Data']:\n",
    "    print(\"Name:\", station['Name'])\n",
    "    print(\"Address:\", station['Address'])\n",
    "    print(\"Latitude:\", station['Latitude'])\n",
    "    print(\"Longitude:\", station['Longitude'])\n",
    "    print(\"Distance:\", station['Distance'])\n",
    "    print(\"------------\")\n"
   ]
  },
  {
   "cell_type": "code",
   "execution_count": null,
   "metadata": {},
   "outputs": [],
   "source": [
    "import requests\n",
    "import json\n",
    "\n",
    "def get_charging_stations(lat1, lon1, lat2, lon2, radius=50):\n",
    "  \"\"\"\n",
    "  Fetches charging stations within a given radius of two points.\n",
    "\n",
    "  Args:\n",
    "    lat1, lon1: Coordinates of the starting point.\n",
    "    lat2, lon2: Coordinates of the destination point.\n",
    "    radius: Search radius in kilometers.\n",
    "\n",
    "  Returns:\n",
    "    A list of charging stations within the specified radius.\n",
    "  \"\"\"\n",
    "\n",
    "  api_key = \"d1138da0-c7d4-4f81-a2c6-44de7bbd80a0\"  # Replace with your OpenChargeMap API key\n",
    "  url = f\"https://api.openchargemap.org/v3/poi/?output=json&countrycode=FR&latitude={lat1}&longitude={lon1}&distance={radius}&maxresults=50\"\n",
    "  response = requests.get(url, headers={\"Authorization\": f\"Bearer {api_key}\"})\n",
    "  data = json.loads(response.text)\n",
    "  return data['pois']\n",
    "\n",
    "# Example usage:\n",
    "start_lat, start_lon = 40.4168, -3.7038  # Madrid\n",
    "end_lat, end_lon = 48.8566, 2.3522  # Paris\n",
    "\n",
    "# You might want to divide the route into smaller segments to get more accurate results\n",
    "stations1 = get_charging_stations(start_lat, start_lon, (start_lat + end_lat) / 2, (start_lon + end_lon) / 2)\n",
    "stations2 = get_charging_stations((start_lat + end_lat) / 2, (start_lon + end_lon) / 2, end_lat, end_lon)\n",
    "\n",
    "# ... further process the data, consider routing algorithms, and visualize the route on a map"
   ]
  }
 ],
 "metadata": {
  "kernelspec": {
   "display_name": "Python 3",
   "language": "python",
   "name": "python3"
  },
  "language_info": {
   "codemirror_mode": {
    "name": "ipython",
    "version": 3
   },
   "file_extension": ".py",
   "mimetype": "text/x-python",
   "name": "python",
   "nbconvert_exporter": "python",
   "pygments_lexer": "ipython3",
   "version": "3.12.6"
  }
 },
 "nbformat": 4,
 "nbformat_minor": 2
}
